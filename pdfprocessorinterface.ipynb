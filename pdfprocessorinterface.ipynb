{
  "nbformat": 4,
  "nbformat_minor": 0,
  "metadata": {
    "colab": {
      "provenance": []
    },
    "kernelspec": {
      "name": "python3",
      "display_name": "Python 3"
    },
    "language_info": {
      "name": "python"
    }
  },
  "cells": [
    {
      "cell_type": "code",
      "source": [
        "!pip install pypdf"
      ],
      "metadata": {
        "colab": {
          "base_uri": "https://localhost:8080/"
        },
        "id": "ZCrQn9dxa8KP",
        "outputId": "b1dd0ce6-5e56-498d-a058-98e515aa635e"
      },
      "execution_count": 2,
      "outputs": [
        {
          "output_type": "stream",
          "name": "stdout",
          "text": [
            "Collecting pypdf\n",
            "  Downloading pypdf-5.1.0-py3-none-any.whl.metadata (7.2 kB)\n",
            "Requirement already satisfied: typing_extensions>=4.0 in /usr/local/lib/python3.10/dist-packages (from pypdf) (4.12.2)\n",
            "Downloading pypdf-5.1.0-py3-none-any.whl (297 kB)\n",
            "\u001b[?25l   \u001b[90m━━━━━━━━━━━━━━━━━━━━━━━━━━━━━━━━━━━━━━━━\u001b[0m \u001b[32m0.0/298.0 kB\u001b[0m \u001b[31m?\u001b[0m eta \u001b[36m-:--:--\u001b[0m\r\u001b[2K   \u001b[90m━━━━━━━━━━━━━━━━━━━━━━━━━━━━━━━━━━━━━━━━\u001b[0m \u001b[32m298.0/298.0 kB\u001b[0m \u001b[31m14.0 MB/s\u001b[0m eta \u001b[36m0:00:00\u001b[0m\n",
            "\u001b[?25hInstalling collected packages: pypdf\n",
            "Successfully installed pypdf-5.1.0\n"
          ]
        }
      ]
    },
    {
      "cell_type": "code",
      "execution_count": 5,
      "metadata": {
        "id": "HRrViFD5Zsdv"
      },
      "outputs": [],
      "source": [
        "import os\n",
        "import re\n",
        "import sqlite3\n",
        "from abc import ABC, abstractmethod\n",
        "from pypdf import PdfReader\n",
        "\n",
        "class QuestionInterface(ABC):\n",
        "    @abstractmethod\n",
        "    def store_question(self, db_connection):\n",
        "        pass\n",
        "\n",
        "class SubjectiveQuestion(QuestionInterface):\n",
        "    def __init__(self, text, chapter):\n",
        "        self.text = text\n",
        "        self.chapter = chapter\n",
        "\n",
        "    def store_question(self, db_connection):\n",
        "        cursor = db_connection.cursor()\n",
        "        cursor.execute('''\n",
        "            INSERT INTO questions\n",
        "            (subject, question_text, question_type, chapter)\n",
        "            VALUES (?, ?, ?, ?)\n",
        "        ''', ('Chemistry', self.text, 'Subjective', self.chapter))\n",
        "\n",
        "class MultipleChoiceQuestion(QuestionInterface):\n",
        "    def __init__(self, text, options, chapter):\n",
        "        self.text = text\n",
        "        self.options = options\n",
        "        self.chapter = chapter\n",
        "\n",
        "    def store_question(self, db_connection):\n",
        "        cursor = db_connection.cursor()\n",
        "        cursor.execute('''\n",
        "            INSERT INTO questions\n",
        "            (subject, question_text, question_type, options, chapter)\n",
        "            VALUES (?, ?, ?, ?, ?)\n",
        "        ''', ('Chemistry', self.text, 'Multiple Choice', str(self.options), self.chapter))\n",
        "\n",
        "class PDFQuestionExtractor:\n",
        "    def __init__(self, pdf_path, db_path):\n",
        "        self.pdf_path = pdf_path\n",
        "        self.db_path = db_path\n",
        "\n",
        "    def create_database(self):\n",
        "        try:\n",
        "            conn = sqlite3.connect(self.db_path)\n",
        "            cursor = conn.cursor()\n",
        "            cursor.execute('''\n",
        "                CREATE TABLE IF NOT EXISTS questions (\n",
        "                    id INTEGER PRIMARY KEY,\n",
        "                    subject TEXT,\n",
        "                    question_text TEXT,\n",
        "                    question_type TEXT,\n",
        "                    options TEXT,\n",
        "                    chapter TEXT\n",
        "                )\n",
        "            ''')\n",
        "            conn.commit()\n",
        "            return conn\n",
        "        except sqlite3.Error as e:\n",
        "            print(f\"Database error: {e}\")\n",
        "            return None\n",
        "\n",
        "    def extract_questions(self):\n",
        "        db_connection = self.create_database()\n",
        "        if not db_connection:\n",
        "            return\n",
        "\n",
        "        try:\n",
        "            reader = PdfReader(self.pdf_path)\n",
        "            for page in reader.pages:\n",
        "                text = page.extract_text()\n",
        "                # Implement regex-based question extraction logic here\n",
        "                # This is a placeholder for actual extraction\n",
        "                questions = re.findall(r'(Question:.*?)\\n', text, re.DOTALL)\n",
        "                for question in questions:\n",
        "                    # Determine question type and create appropriate object\n",
        "                    # Example logic - you'll need to customize\n",
        "                    if '?' in question:\n",
        "                        q_obj = SubjectiveQuestion(question, 'General Chemistry')\n",
        "                    else:\n",
        "                        q_obj = MultipleChoiceQuestion(question, ['A', 'B', 'C', 'D'], 'General Chemistry')\n",
        "\n",
        "                    q_obj.store_question(db_connection)\n",
        "\n",
        "            db_connection.commit()\n",
        "        except Exception as e:\n",
        "            print(f\"Error processing PDF: {e}\")\n",
        "        finally:\n",
        "            if db_connection:\n",
        "                db_connection.close()\n",
        "\n",
        "# Usage\n",
        "extractor = PDFQuestionExtractor('/content/Chemistry Questions.pdf', 'chemistry_questions.db')\n",
        "extractor.extract_questions()"
      ]
    }
  ]
}