{
  "nbformat": 4,
  "nbformat_minor": 0,
  "metadata": {
    "colab": {
      "provenance": []
    },
    "kernelspec": {
      "name": "python3",
      "display_name": "Python 3"
    },
    "language_info": {
      "name": "python"
    }
  },
  "cells": [
    {
      "cell_type": "code",
      "execution_count": null,
      "metadata": {
        "colab": {
          "base_uri": "https://localhost:8080/"
        },
        "id": "LGPtQ8PoWD4S",
        "outputId": "1c4df871-dd40-432a-8c3f-ec7eb74f0159"
      },
      "outputs": [
        {
          "output_type": "stream",
          "name": "stdout",
          "text": [
            "Requirement already satisfied: openai in /usr/local/lib/python3.10/dist-packages (1.57.4)\n",
            "Requirement already satisfied: anyio<5,>=3.5.0 in /usr/local/lib/python3.10/dist-packages (from openai) (3.7.1)\n",
            "Requirement already satisfied: distro<2,>=1.7.0 in /usr/local/lib/python3.10/dist-packages (from openai) (1.9.0)\n",
            "Requirement already satisfied: httpx<1,>=0.23.0 in /usr/local/lib/python3.10/dist-packages (from openai) (0.28.1)\n",
            "Requirement already satisfied: jiter<1,>=0.4.0 in /usr/local/lib/python3.10/dist-packages (from openai) (0.8.2)\n",
            "Requirement already satisfied: pydantic<3,>=1.9.0 in /usr/local/lib/python3.10/dist-packages (from openai) (2.10.3)\n",
            "Requirement already satisfied: sniffio in /usr/local/lib/python3.10/dist-packages (from openai) (1.3.1)\n",
            "Requirement already satisfied: tqdm>4 in /usr/local/lib/python3.10/dist-packages (from openai) (4.67.1)\n",
            "Requirement already satisfied: typing-extensions<5,>=4.11 in /usr/local/lib/python3.10/dist-packages (from openai) (4.12.2)\n",
            "Requirement already satisfied: idna>=2.8 in /usr/local/lib/python3.10/dist-packages (from anyio<5,>=3.5.0->openai) (3.10)\n",
            "Requirement already satisfied: exceptiongroup in /usr/local/lib/python3.10/dist-packages (from anyio<5,>=3.5.0->openai) (1.2.2)\n",
            "Requirement already satisfied: certifi in /usr/local/lib/python3.10/dist-packages (from httpx<1,>=0.23.0->openai) (2024.12.14)\n",
            "Requirement already satisfied: httpcore==1.* in /usr/local/lib/python3.10/dist-packages (from httpx<1,>=0.23.0->openai) (1.0.7)\n",
            "Requirement already satisfied: h11<0.15,>=0.13 in /usr/local/lib/python3.10/dist-packages (from httpcore==1.*->httpx<1,>=0.23.0->openai) (0.14.0)\n",
            "Requirement already satisfied: annotated-types>=0.6.0 in /usr/local/lib/python3.10/dist-packages (from pydantic<3,>=1.9.0->openai) (0.7.0)\n",
            "Requirement already satisfied: pydantic-core==2.27.1 in /usr/local/lib/python3.10/dist-packages (from pydantic<3,>=1.9.0->openai) (2.27.1)\n"
          ]
        }
      ],
      "source": [
        "pip install openai"
      ]
    },
    {
      "cell_type": "code",
      "source": [
        "export OPENAI_API_KEY=''\n"
      ],
      "metadata": {
        "colab": {
          "base_uri": "https://localhost:8080/",
          "height": 106
        },
        "id": "UAASAy3vW15g",
        "outputId": "f623fe90-c1aa-403b-d6e2-2218bbd6e8c7"
      },
      "execution_count": 1,
      "outputs": [
        {
          "output_type": "error",
          "ename": "SyntaxError",
          "evalue": "invalid syntax (<ipython-input-1-db4a6f041f58>, line 1)",
          "traceback": [
            "\u001b[0;36m  File \u001b[0;32m\"<ipython-input-1-db4a6f041f58>\"\u001b[0;36m, line \u001b[0;32m1\u001b[0m\n\u001b[0;31m    export OPENAI_API_KEY=''\u001b[0m\n\u001b[0m           ^\u001b[0m\n\u001b[0;31mSyntaxError\u001b[0m\u001b[0;31m:\u001b[0m invalid syntax\n"
          ]
        }
      ]
    },
    {
      "cell_type": "code",
      "source": [
        "from openai import OpenAI\n",
        "client = OpenAI(api_key=\"\")\n",
        "\n",
        "completion = client.chat.completions.create(\n",
        "    model=\"gpt-4o-mini\",\n",
        "    messages=[\n",
        "        {\"role\": \"system\", \"content\": '''Assume that you are the AI Assistant at a Doctor's clinic\n",
        " You have to answer or respond to the patients queries about the top doctor's list and their availability.\n",
        " Please consider the below doctor's name and their availability and store it in your memory from Hyderabad. Also consider that all the below doctors are not available over the weekends.\n",
        "Doctor Name Hospital Name   Category    Availability\n",
        "Dr. Somnath Gupta   Yashodha Hospitals, Hitech City General Physician   9:00 am to 2:00 pm\n",
        "Dr. Tulika Tayal    Rainbow Children Hospital, Banjara Hills    Fetal Medicine Specialist   10:00 am to 1:00 pm\n",
        "Dr. Deepthi Kondagari   Endo Rheuma Care, Dilshukhnagar, Opposite RS Brothers   Endocrinologist 5:00 pm to 8:00 pm\n",
        "Dr. Sanjeev Kumar   Subodaya Luxury Appartments,\n",
        "YWCA Road, Abids    Cardiologist    8:30 am to 11:30 am\n",
        "Dr. Anudeep metropillar 1171, Blood Bank, 1st floor, IMS, opposite to Narayanaguda, near metro station, Narayanguda, Hyderabad, Telangana 500029    Homeopathy  10 am to 3:00 pm\n",
        "Dr Sushma Peruri    SUPRA GASTRO & SURGERY CLINIC, Malik Chambers, Old MLA Quarters Rd, opp. hotel Central Park, Avanti Nagar, Basheer Bagh, Hyderabad, Telangana 500029    Gastro, Piles, Fissure, Fistula and Breast lumps    24 hours\n",
        "Dr Pradeep Reddy M  Hyderabad MultiSpeciality Hospital, 16-2-674/11, Judges Colony, New Malakpet, Hyderabad, Telangana 500036   Orthopedic(Hip, Knee Joint Replacement) Surgeon 24 hours\n",
        "Dr Ravi Suman Reddy Dr Ravi Suman Reddy | Best NeuroSurgeon in Hyderabad | Best Spine Surgeon, Room 107 Yashoda Hospital, Raj Bhavan Rd, Matha Nagar, Somajiguda, Hyderabad, Telangana 500082   Neurologist 10:00 am to 4:00 pm\n",
        "Dr Chava Anjaneyulu Asian ENT Care Centre | Dr. Chava Anjaneyulu | ENT Doctor In Hyderabad | Best ENT Hospital In Hyderabad, 6-3-871 snehalatha, Greenlands Rd, near by pulla reddy sweets, beside Vivekananda hospital, Punjagutta Officers Colony, Begumpet, Hyderabad, Telangana 500016  ENT Specialist  9:00 am to 6:00 pm\n",
        "Dr Ravishankar Reddy    Ravi Speciality Clinic Flat no 202 Sri Krishna Sai LB towers Second floor Opposite SBI bank (yellareddyguda branch, Srinagar Colony, Hyderabad, Telangana 500073    Diabetologist   6:00 pm to 9:00 pm\n",
        "            '''},\n",
        "        {\n",
        "            \"role\": \"user\",\n",
        "            \"content\": \"list down the hospitals which do not have 24 hours doctor avaiability.\"\n",
        "        }\n",
        "    ]\n",
        ")\n",
        "\n",
        "print(completion.choices[0].message)"
      ],
      "metadata": {
        "colab": {
          "base_uri": "https://localhost:8080/"
        },
        "id": "LKptjWFnWN90",
        "outputId": "89b07214-651f-4b1e-c3ef-152c7a8c9c03"
      },
      "execution_count": null,
      "outputs": [
        {
          "output_type": "stream",
          "name": "stdout",
          "text": [
            "ChatCompletionMessage(content='The hospitals that do not have 24-hour doctor availability are:\\n\\n1. Yashodha Hospitals, Hitech City (Dr. Somnath Gupta - General Physician)\\n2. Rainbow Children Hospital, Banjara Hills (Dr. Tulika Tayal - Fetal Medicine Specialist)\\n3. Endo Rheuma Care, Dilshukhnagar (Dr. Deepthi Kondagari - Endocrinologist)\\n4. Subodaya Luxury Appartments, YWCA Road, Abids (Dr. Sanjeev Kumar - Cardiologist)\\n5. Homeopathy Clinic, Narayanguda (Dr. Anudeep - Homeopathy)\\n6. Asian ENT Care Centre (Dr. Chava Anjaneyulu - ENT Specialist)\\n7. Ravi Speciality Clinic (Dr. Ravishankar Reddy - Diabetologist)\\n\\nThe hospitals with 24-hour availability are:\\n1. SUPRA GASTRO & SURGERY CLINIC (Dr. Sushma Peruri - Gastro, Piles, Fissure, Fistula and Breast lumps)\\n2. Hyderabad MultiSpeciality Hospital (Dr. Pradeep Reddy M - Orthopedic Surgeon)', refusal=None, role='assistant', audio=None, function_call=None, tool_calls=None)\n"
          ]
        }
      ]
    },
    {
      "cell_type": "code",
      "source": [],
      "metadata": {
        "id": "mqxpRyRzcrVI"
      },
      "execution_count": null,
      "outputs": []
    },
    {
      "cell_type": "code",
      "source": [
        "import openai\n",
        "\n",
        "openai.api_key = \"\"\n",
        "\n",
        "def query_chatbot(product_query):\n",
        "    # Prepare the messages for the chat context\n",
        "    messages = [\n",
        "        {\"role\": \"system\", \"content\": \"This is a chatbot that provides information about products.\"},\n",
        "        {\"role\": \"user\", \"content\": f\"Can you tell me about {product_query}?\"}\n",
        "    ]\n",
        "\n",
        "    # Using GPT-4 with the ChatCompletion.create method\n",
        "    response = client.chat.completions.create(\n",
        "    model=\"gpt-4o-mini\",\n",
        "    messages=messages,\n",
        "    max_tokens=200)\n",
        "    # response = openai.ChatCompletion.create(\n",
        "    #     model=\"gpt-4\",\n",
        "    #     messages=messages,\n",
        "\t\t# \t\tmax_tokens=200\n",
        "    # )\n",
        "\n",
        "    # Extracting and returning the chatbot's response\n",
        "    return response.choices[0].message.content\n",
        "\n",
        "# Example query\n",
        "product_query = \"the latest iPhone model\"\n",
        "response = query_chatbot(product_query)\n",
        "print(response)\n"
      ],
      "metadata": {
        "colab": {
          "base_uri": "https://localhost:8080/"
        },
        "id": "rS6rIHxwcrXJ",
        "outputId": "b20df0c3-b325-4778-d67a-e902a8f1931b"
      },
      "execution_count": null,
      "outputs": [
        {
          "output_type": "stream",
          "name": "stdout",
          "text": [
            "As of my last update in October 2023, the latest iPhone models are the iPhone 15, iPhone 15 Plus, iPhone 15 Pro, and iPhone 15 Pro Max, which were announced in September 2023. Here are some key features of these models:\n",
            "\n",
            "1. **Design**: The iPhone 15 series continues with a sleek design, featuring an aluminum or stainless-steel frame and ceramic shield glass. The Pro models sport a brushed finish, while the standard models have a glossy appearance.\n",
            "\n",
            "2. **Display**: All models feature Super Retina XDR displays, with the Pro models offering ProMotion technology for smoother scrolling and enhanced responsiveness.\n",
            "\n",
            "3. **Camera Improvements**: The Pro models come with a significant upgrade in camera capabilities, including improved low-light performance and enhanced computational photography features. The iPhone 15 Pro Max includes a periscope telephoto lens for improved zoom capabilities.\n",
            "\n",
            "4. **A17 Pro Chip**: The i\n"
          ]
        }
      ]
    },
    {
      "cell_type": "code",
      "source": [
        "faq_data = [\n",
        "{\n",
        "    \"Agent\" : \"Hello and Welcome to the Super Clinic. How may I assist you today?\",\n",
        "    \"Caller\": \"How can I have an appointment with Dr. Somnath Gupta?\"\n",
        "},\n",
        "{\n",
        "    \"Agent\": \"Sure, what date and time would you like the appointment?\",\n",
        "    \"Caller\": \"I would like to meet him tomorrow at 10 AM\"\n",
        "},\n",
        " {\n",
        "    \"Agent\": \"Sorry, he is not avaialble at 10 AM, are you avaialble at 11 AM?\",\n",
        "    \"Caller\": \"Ok\"\n",
        "},\n",
        "{\n",
        "    \"Agent\": \"Great, I have booked an appointment for you tomorrow at the same time\",\n",
        "    \"Caller\": \"Thank You\"\n",
        "},\n",
        "{\n",
        "    \"Agent\": \"Is there anything else with which I can assist you with?\",\n",
        "    \"Caller\": \"No\"\n",
        "},\n",
        "{\n",
        "    \"Agent\": \"Thanks Have a Nice Day. Rate our Service in the form which will be sent as SMS to you\",\n",
        "    \"Caller\": \"Sure.\"\n",
        "}]"
      ],
      "metadata": {
        "id": "7oenKoe2n7jH"
      },
      "execution_count": null,
      "outputs": []
    },
    {
      "cell_type": "code",
      "source": [
        "message_objects = []\n",
        "for faq in faq_data:\n",
        "    message_objects.append({\n",
        "        \"role\": \"user\", \"content\": faq['Agent']\n",
        "    })\n",
        "    message_objects.append({\n",
        "        \"role\": \"assistant\", \"content\": faq['Caller']\n",
        "    })\n",
        "message_objects"
      ],
      "metadata": {
        "colab": {
          "base_uri": "https://localhost:8080/"
        },
        "id": "twuhlYPUq3gf",
        "outputId": "5834a218-ba87-4f95-83e4-c86f12cf4986"
      },
      "execution_count": null,
      "outputs": [
        {
          "output_type": "execute_result",
          "data": {
            "text/plain": [
              "[{'role': 'user',\n",
              "  'content': 'Hello and Welcome to the Super Clinic. How may I assist you today?'},\n",
              " {'role': 'assistant',\n",
              "  'content': 'How can I have an appointment with Dr. Somnath Gupta?'},\n",
              " {'role': 'user',\n",
              "  'content': 'Sure, what date and time would you like the appointment?'},\n",
              " {'role': 'assistant',\n",
              "  'content': 'I would like to meet him tomorrow at 10 AM'},\n",
              " {'role': 'user',\n",
              "  'content': 'Sorry, he is not avaialble at 10 AM, are you avaialble at 11 AM?'},\n",
              " {'role': 'assistant', 'content': 'Ok'},\n",
              " {'role': 'user',\n",
              "  'content': 'Great, I have booked an appointment for you tomorrow at the same time'},\n",
              " {'role': 'assistant', 'content': 'Thank You'},\n",
              " {'role': 'user',\n",
              "  'content': 'Is there anything else with which I can assist you with?'},\n",
              " {'role': 'assistant', 'content': 'No'},\n",
              " {'role': 'user',\n",
              "  'content': 'Thanks Have a Nice Day. Rate our Service in the form which will be sent as SMS to you'},\n",
              " {'role': 'assistant', 'content': 'Sure.'}]"
            ]
          },
          "metadata": {},
          "execution_count": 7
        }
      ]
    },
    {
      "cell_type": "code",
      "source": [
        "response = client.chat.completions.create(\n",
        "  model=\"gpt-4o-mini\",\n",
        "  messages=message_objects,\n",
        "  max_tokens=200\n",
        ")\n",
        "response.choices[0].message.content"
      ],
      "metadata": {
        "colab": {
          "base_uri": "https://localhost:8080/",
          "height": 53
        },
        "id": "fBDt5oakrvdZ",
        "outputId": "b31a7e3b-94bb-4dcb-9664-c7e08c1f9ea4"
      },
      "execution_count": null,
      "outputs": [
        {
          "output_type": "execute_result",
          "data": {
            "text/plain": [
              "'Thank you! If you need any further assistance in the future, feel free to reach out. Have a great day!'"
            ],
            "application/vnd.google.colaboratory.intrinsic+json": {
              "type": "string"
            }
          },
          "metadata": {},
          "execution_count": 14
        }
      ]
    },
    {
      "cell_type": "code",
      "source": [
        "new_prompt = \"How do I switch to a new doctor appointment?\""
      ],
      "metadata": {
        "id": "ZLKRr6QrtfVU"
      },
      "execution_count": null,
      "outputs": []
    },
    {
      "cell_type": "code",
      "source": [
        "#message_objects.append({\"role\":\"user\", \"content\":new_prompt})\n",
        "message_objects"
      ],
      "metadata": {
        "colab": {
          "base_uri": "https://localhost:8080/"
        },
        "id": "UcRMw3_BuCD9",
        "outputId": "cd5a357e-aabb-4150-b572-d71c420c3a69"
      },
      "execution_count": null,
      "outputs": [
        {
          "output_type": "execute_result",
          "data": {
            "text/plain": [
              "[{'role': 'user',\n",
              "  'content': 'Hello and Welcome to the Super Clinic. How may I assist you today?'},\n",
              " {'role': 'assistant',\n",
              "  'content': 'How can I have an appointment with Dr. Somnath Gupta?'},\n",
              " {'role': 'user',\n",
              "  'content': 'Sure, what date and time would you like the appointment?'},\n",
              " {'role': 'assistant',\n",
              "  'content': 'I would like to meet him tomorrow at 10 AM'},\n",
              " {'role': 'user',\n",
              "  'content': 'Sorry, he is not avaialble at 10 AM, are you avaialble at 11 AM?'},\n",
              " {'role': 'assistant', 'content': 'Ok'},\n",
              " {'role': 'user',\n",
              "  'content': 'Great, I have booked an appointment for you tomorrow at the same time'},\n",
              " {'role': 'assistant', 'content': 'Thank You'},\n",
              " {'role': 'user',\n",
              "  'content': 'Is there anything else with which I can assist you with?'},\n",
              " {'role': 'assistant', 'content': 'No'},\n",
              " {'role': 'user',\n",
              "  'content': 'Thanks Have a Nice Day. Rate our Service in the form which will be sent as SMS to you'},\n",
              " {'role': 'assistant', 'content': 'Sure.'},\n",
              " {'role': 'user', 'content': 'How do I switch to a new doctor appointment?'}]"
            ]
          },
          "metadata": {},
          "execution_count": 17
        }
      ]
    },
    {
      "cell_type": "code",
      "source": [
        "response = client.chat.completions.create(\n",
        "  model=\"gpt-4o-mini\",\n",
        "  messages=message_objects,\n",
        "  max_tokens=200\n",
        ")\n",
        "response.choices[0].message.content"
      ],
      "metadata": {
        "colab": {
          "base_uri": "https://localhost:8080/",
          "height": 209
        },
        "id": "ZVe7WVDAuNnl",
        "outputId": "43b1d6cc-1e5a-4275-84ef-af26eb0c6bef"
      },
      "execution_count": null,
      "outputs": [
        {
          "output_type": "execute_result",
          "data": {
            "text/plain": [
              "\"To switch to a new doctor appointment, you can typically follow these steps:\\n\\n1. **Contact the Clinic or Office**: Call the clinic where you have your existing appointment and ask to cancel or reschedule your appointment.\\n\\n2. **Provide Your Details**: Be ready to provide your name, appointment date, and any other relevant information to help the staff locate your appointment.\\n\\n3. **Request a New Doctor**: Let them know you want to switch to a different doctor and specify which doctor you’d like to see.\\n\\n4. **Check Availability**: Ask about the availability of the new doctor and suggest a few dates and times that work for you.\\n\\n5. **Confirm the Appointment**: Once you agree on a new date and time, confirm the appointment details before hanging up.\\n\\n6. **Follow Up**: It's a good idea to receive a confirmation message or email about your new appointment.\\n\\nIf the process is available online, you can also check the clinic’s website or patient portal for\""
            ],
            "application/vnd.google.colaboratory.intrinsic+json": {
              "type": "string"
            }
          },
          "metadata": {},
          "execution_count": 18
        }
      ]
    },
    {
      "cell_type": "code",
      "source": [
        "pip install openai==0.28"
      ],
      "metadata": {
        "colab": {
          "base_uri": "https://localhost:8080/",
          "height": 564
        },
        "id": "CiMc_zF1g8UT",
        "outputId": "721f0406-3d76-4818-bc65-344af4f8e632"
      },
      "execution_count": null,
      "outputs": [
        {
          "output_type": "stream",
          "name": "stdout",
          "text": [
            "Collecting openai==0.28\n",
            "  Downloading openai-0.28.0-py3-none-any.whl.metadata (13 kB)\n",
            "Requirement already satisfied: requests>=2.20 in /usr/local/lib/python3.10/dist-packages (from openai==0.28) (2.32.3)\n",
            "Requirement already satisfied: tqdm in /usr/local/lib/python3.10/dist-packages (from openai==0.28) (4.67.1)\n",
            "Requirement already satisfied: aiohttp in /usr/local/lib/python3.10/dist-packages (from openai==0.28) (3.11.10)\n",
            "Requirement already satisfied: charset-normalizer<4,>=2 in /usr/local/lib/python3.10/dist-packages (from requests>=2.20->openai==0.28) (3.4.0)\n",
            "Requirement already satisfied: idna<4,>=2.5 in /usr/local/lib/python3.10/dist-packages (from requests>=2.20->openai==0.28) (3.10)\n",
            "Requirement already satisfied: urllib3<3,>=1.21.1 in /usr/local/lib/python3.10/dist-packages (from requests>=2.20->openai==0.28) (2.2.3)\n",
            "Requirement already satisfied: certifi>=2017.4.17 in /usr/local/lib/python3.10/dist-packages (from requests>=2.20->openai==0.28) (2024.12.14)\n",
            "Requirement already satisfied: aiohappyeyeballs>=2.3.0 in /usr/local/lib/python3.10/dist-packages (from aiohttp->openai==0.28) (2.4.4)\n",
            "Requirement already satisfied: aiosignal>=1.1.2 in /usr/local/lib/python3.10/dist-packages (from aiohttp->openai==0.28) (1.3.2)\n",
            "Requirement already satisfied: async-timeout<6.0,>=4.0 in /usr/local/lib/python3.10/dist-packages (from aiohttp->openai==0.28) (4.0.3)\n",
            "Requirement already satisfied: attrs>=17.3.0 in /usr/local/lib/python3.10/dist-packages (from aiohttp->openai==0.28) (24.3.0)\n",
            "Requirement already satisfied: frozenlist>=1.1.1 in /usr/local/lib/python3.10/dist-packages (from aiohttp->openai==0.28) (1.5.0)\n",
            "Requirement already satisfied: multidict<7.0,>=4.5 in /usr/local/lib/python3.10/dist-packages (from aiohttp->openai==0.28) (6.1.0)\n",
            "Requirement already satisfied: propcache>=0.2.0 in /usr/local/lib/python3.10/dist-packages (from aiohttp->openai==0.28) (0.2.1)\n",
            "Requirement already satisfied: yarl<2.0,>=1.17.0 in /usr/local/lib/python3.10/dist-packages (from aiohttp->openai==0.28) (1.18.3)\n",
            "Requirement already satisfied: typing-extensions>=4.1.0 in /usr/local/lib/python3.10/dist-packages (from multidict<7.0,>=4.5->aiohttp->openai==0.28) (4.12.2)\n",
            "Downloading openai-0.28.0-py3-none-any.whl (76 kB)\n",
            "\u001b[?25l   \u001b[90m━━━━━━━━━━━━━━━━━━━━━━━━━━━━━━━━━━━━━━━━\u001b[0m \u001b[32m0.0/76.5 kB\u001b[0m \u001b[31m?\u001b[0m eta \u001b[36m-:--:--\u001b[0m\r\u001b[2K   \u001b[90m━━━━━━━━━━━━━━━━━━━━━━━━━━━━━━━━━━━━━━━━\u001b[0m \u001b[32m76.5/76.5 kB\u001b[0m \u001b[31m6.1 MB/s\u001b[0m eta \u001b[36m0:00:00\u001b[0m\n",
            "\u001b[?25hInstalling collected packages: openai\n",
            "  Attempting uninstall: openai\n",
            "    Found existing installation: openai 1.57.4\n",
            "    Uninstalling openai-1.57.4:\n",
            "      Successfully uninstalled openai-1.57.4\n",
            "Successfully installed openai-0.28.0\n"
          ]
        },
        {
          "output_type": "display_data",
          "data": {
            "application/vnd.colab-display-data+json": {
              "pip_warning": {
                "packages": [
                  "openai"
                ]
              },
              "id": "2f05713fb935400490b5804b8f0672cd"
            }
          },
          "metadata": {}
        }
      ]
    },
    {
      "cell_type": "code",
      "source": [
        "import openai\n",
        "from datetime import datetime, timedelta\n",
        "import json\n",
        "\n",
        "class DoctorAppointmentBot:\n",
        "    def __init__(self, api_key):\n",
        "        \"\"\"Initialize the chatbot with OpenAI API key.\"\"\"\n",
        "        openai.api_key = api_key\n",
        "        self.available_slots = self._generate_sample_slots()\n",
        "        self.conversation_history = []\n",
        "\n",
        "    def _generate_sample_slots(self):\n",
        "        \"\"\"Generate sample available appointment slots for next 7 days.\"\"\"\n",
        "        slots = {}\n",
        "        start_date = datetime.now()\n",
        "        for i in range(7):\n",
        "            current_date = start_date + timedelta(days=i)\n",
        "            date_str = current_date.strftime(\"%Y-%m-%d\")\n",
        "            slots[date_str] = [\n",
        "                \"09:00 AM\", \"10:00 AM\", \"11:00 AM\",\n",
        "                \"02:00 PM\", \"03:00 PM\", \"04:00 PM\"\n",
        "            ]\n",
        "        return slots\n",
        "\n",
        "    def _get_chatgpt_response(self, user_input):\n",
        "        \"\"\"Get response from ChatGPT API.\"\"\"\n",
        "        self.conversation_history.append({\"role\": \"user\", \"content\": user_input})\n",
        "\n",
        "        system_prompt = \"\"\"\n",
        "        You are a medical appointment scheduling assistant. Help patients schedule appointments\n",
        "        while collecting necessary information like:\n",
        "        - Patient name\n",
        "        - Reason for visit\n",
        "        - Preferred date and time\n",
        "        - Contact information\n",
        "\n",
        "        Be professional, courteous, and HIPAA-compliant. Don't share any patient information.\n",
        "        Respond in a clear, structured way.\n",
        "        Please consider the below doctor's name and their availability from Hyderabad .Also consider that all the below doctors are not available over the weekends.\n",
        "        Doctor Name Hospital Name   Category    Availability\n",
        "        Dr. Somnath Gupta   Yashodha Hospitals, Hitech City General Physician   9:00 am to 2:00 pm\n",
        "        Dr. Tulika Tayal    Rainbow Children Hospital, Banjara Hills    Fetal Medicine Specialist   10:00 am to 1:00 pm\n",
        "        Dr. Deepthi Kondagari   Endo Rheuma Care, Dilshukhnagar, Opposite RS Brothers   Endocrinologist 5:00 pm to 8:00 pm\n",
        "        Dr. Sanjeev Kumar   Subodaya Luxury Appartments,YWCA Road, Abids    Cardiologist    8:30 am to 11:30 am\n",
        "        Dr. Anudeep metropillar 1171, Blood Bank, 1st floor, IMS, opposite to Narayanaguda, near metro station, Narayanguda, Hyderabad, Telangana 500029    Homeopathy  10 am to 3:00 pm\n",
        "        Dr Sushma Peruri    SUPRA GASTRO & SURGERY CLINIC, Malik Chambers, Old MLA Quarters Rd, opp. hotel Central Park, Avanti Nagar, Basheer Bagh, Hyderabad, Telangana 500029    Gastro, Piles, Fissure, Fistula and Breast lumps    24 hours\n",
        "        Dr Pradeep Reddy M  Hyderabad MultiSpeciality Hospital, 16-2-674/11, Judges Colony, New Malakpet, Hyderabad, Telangana 500036   Orthopedic(Hip, Knee Joint Replacement) Surgeon 24 hours\n",
        "        Dr Ravi Suman Reddy Dr Ravi Suman Reddy | Best NeuroSurgeon in Hyderabad | Best Spine Surgeon, Room 107 Yashoda Hospital, Raj Bhavan Rd, Matha Nagar, Somajiguda, Hyderabad, Telangana 500082   Neurologist 10:00 am to 4:00 pm\n",
        "        Dr Chava Anjaneyulu Asian ENT Care Centre | Dr. Chava Anjaneyulu | ENT Doctor In Hyderabad | Best ENT Hospital In Hyderabad, 6-3-871 snehalatha, Greenlands Rd, near by pulla reddy sweets, beside Vivekananda hospital, Punjagutta Officers Colony, Begumpet, Hyderabad, Telangana 500016  ENT Specialist  9:00 am to 6:00 pm\n",
        "        Dr Ravishankar Reddy    Ravi Speciality Clinic Flat no 202 Sri Krishna Sai LB towers Second floor Opposite SBI bank (yellareddyguda branch, Srinagar Colony, Hyderabad, Telangana 500073    Diabetologist   6:00 pm to 9:00 pm\n",
        "        If the user has requested for an appointment then send the response in the below format:\n",
        "        APPOINTMENT_REQUEST-- Doctor name, Hospital, Date and Time.\n",
        "        \"\"\"\n",
        "\n",
        "        messages = [\n",
        "            {\"role\": \"system\", \"content\": system_prompt},\n",
        "            *self.conversation_history\n",
        "        ]\n",
        "\n",
        "        try:\n",
        "            response = openai.ChatCompletion.create(\n",
        "                model=\"gpt-4o-mini\",\n",
        "                messages=messages,\n",
        "                max_tokens=150,\n",
        "                temperature=0.7\n",
        "            )\n",
        "            assistant_response = response.choices[0].message.content\n",
        "            self.conversation_history.append({\"role\": \"assistant\", \"content\": assistant_response})\n",
        "            return assistant_response\n",
        "\n",
        "        except Exception as e:\n",
        "            return f\"Error: {str(e)}\"\n",
        "\n",
        "    def check_availability(self, date_str):\n",
        "        \"\"\"Check available slots for a given date.\"\"\"\n",
        "        return self.available_slots.get(date_str, [])\n",
        "\n",
        "    def book_appointment(self, date_str, time_str, patient_info):\n",
        "        \"\"\"Book an appointment for the given date and time.\"\"\"\n",
        "        if date_str in self.available_slots and time_str in self.available_slots[date_str]:\n",
        "            self.available_slots[date_str].remove(time_str)\n",
        "            return {\n",
        "                \"status\": \"success\",\n",
        "                \"message\": f\"Appointment booked for {date_str} at {time_str}\",\n",
        "                \"patient_info\": patient_info\n",
        "            }\n",
        "        return {\n",
        "            \"status\": \"error\",\n",
        "            \"message\": \"Selected slot is not available\"\n",
        "        }\n",
        "\n",
        "    def process_user_input(self, user_input):\n",
        "        \"\"\"Process user input and return appropriate response.\"\"\"\n",
        "        # Get AI response\n",
        "        ai_response = self._get_chatgpt_response(user_input)\n",
        "\n",
        "        # If the AI response contains appointment request markers, process them\n",
        "        #print(ai_response)\n",
        "        if \"APPOINTMENT_REQUEST\" in ai_response:\n",
        "            try:\n",
        "                # Extract appointment details from AI response\n",
        "                print(\"Extracting appointment details from AI response\")\n",
        "                print(\"The Appointment request is \"+ ai_response)\n",
        "                request_details = json.loads(ai_response.split(\"APPOINTMENT_REQUEST\")[1])\n",
        "\n",
        "\n",
        "                date_str = request_details[\"date\"]\n",
        "                time_str = request_details[\"time\"]\n",
        "                patient_info = request_details[\"patient_info\"]\n",
        "\n",
        "                # Check availability and book appointment\n",
        "                available_slots = self.check_availability(date_str)\n",
        "                if time_str in available_slots:\n",
        "                    booking_result = self.book_appointment(date_str, time_str, patient_info)\n",
        "                    return booking_result[\"message\"]\n",
        "                else:\n",
        "                    return f\"Sorry, the requested slot is not available. Available slots for {date_str} are: {', '.join(available_slots)}\"\n",
        "            except json.JSONDecodeError:\n",
        "                return ai_response\n",
        "\n",
        "        return ai_response\n",
        "\n",
        "def main():\n",
        "    # Initialize the chatbot with your OpenAI API key\n",
        "    api_key = \"\"\n",
        "    bot = DoctorAppointmentBot(api_key)\n",
        "\n",
        "    print(\"Welcome to the Doctor Appointment Chatbot!\")\n",
        "    print(\"Type 'quit' to exit\")\n",
        "\n",
        "    while True:\n",
        "        user_input = input(\"You: \")\n",
        "        if user_input.lower() == 'quit':\n",
        "            break\n",
        "\n",
        "        response = bot.process_user_input(user_input)\n",
        "        print(f\"Bot: {response}\")\n",
        "\n",
        "if __name__ == \"__main__\":\n",
        "    main()"
      ],
      "metadata": {
        "colab": {
          "base_uri": "https://localhost:8080/"
        },
        "id": "5OmV-7EQa7P0",
        "outputId": "4bc63630-c099-4395-f8a6-8672a6ed4545"
      },
      "execution_count": null,
      "outputs": [
        {
          "name": "stdout",
          "output_type": "stream",
          "text": [
            "Welcome to the Doctor Appointment Chatbot!\n",
            "Type 'quit' to exit\n",
            "You: please give appointment with Tulika\n",
            "Bot: To assist you with scheduling an appointment with Dr. Tulika Tayal, I need some additional information:\n",
            "\n",
            "1. **Patient Name:**\n",
            "2. **Reason for Visit:**\n",
            "3. **Preferred Date and Time:**\n",
            "4. **Contact Information (phone number or email):**\n",
            "\n",
            "Once I have this information, I can help you schedule the appointment. Thank you!\n",
            "You: Ramesh, General Checkup, 09-Jan 10:30 am, 998989899\n",
            "Extracting appointment details from AI response\n",
            "The Appointment request is Thank you, Ramesh. I will schedule your appointment with Dr. Tulika Tayal.\n",
            "\n",
            "Here are the details:\n",
            "\n",
            "- **Doctor Name:** Dr. Tulika Tayal\n",
            "- **Hospital:** Rainbow Children Hospital, Banjara Hills\n",
            "- **Reason for Visit:** General Checkup\n",
            "- **Preferred Date and Time:** 09-Jan at 10:30 am\n",
            "- **Contact Information:** 998989899\n",
            "\n",
            "I will now proceed with the appointment request.\n",
            "\n",
            "**APPOINTMENT_REQUEST-- Dr. Tulika Tayal, Rainbow Children Hospital, 09-Jan 10:30 am.**\n",
            "\n",
            "You will receive a confirmation soon. Thank you!\n",
            "Bot: Thank you, Ramesh. I will schedule your appointment with Dr. Tulika Tayal.\n",
            "\n",
            "Here are the details:\n",
            "\n",
            "- **Doctor Name:** Dr. Tulika Tayal\n",
            "- **Hospital:** Rainbow Children Hospital, Banjara Hills\n",
            "- **Reason for Visit:** General Checkup\n",
            "- **Preferred Date and Time:** 09-Jan at 10:30 am\n",
            "- **Contact Information:** 998989899\n",
            "\n",
            "I will now proceed with the appointment request.\n",
            "\n",
            "**APPOINTMENT_REQUEST-- Dr. Tulika Tayal, Rainbow Children Hospital, 09-Jan 10:30 am.**\n",
            "\n",
            "You will receive a confirmation soon. Thank you!\n",
            "You: thank you bye\n",
            "Bot: You're welcome, Ramesh! If you need any further assistance in the future, feel free to reach out. Have a great day! Goodbye!\n",
            "You: quit\n"
          ]
        }
      ]
    },
    {
      "cell_type": "code",
      "source": [],
      "metadata": {
        "id": "E7WYilS6hOyR"
      },
      "execution_count": null,
      "outputs": []
    }
  ]
}